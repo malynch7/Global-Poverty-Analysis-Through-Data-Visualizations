{
 "cells": [
  {
   "cell_type": "markdown",
   "metadata": {},
   "source": [
    "<h1 align='center'>Global Poverty Analysis Through Data Visualizations</h1>\n",
    "\n",
    "<h4 align='center'>Mark Lynch & Andres Cifuentes</h4>\n",
    "<h4 align='center'>Data Visualization</h4>\n",
    "<h4 align='center'>7/31/2019</h4>"
   ]
  },
  {
   "cell_type": "markdown",
   "metadata": {},
   "source": [
    "<br><br>\n",
    "### 1. About The Data:\n",
    "\n",
    "&emsp; This project utilizes the poverty database, publicly available through the Journal of Statistics Education's website at http://jse.amstat.org/. This database provides 97 samples from both The United Nations Educational, Scientific and Cultural Organization's (U.N.E.S.C.O.) 1990 Demographic Year Book and The Annual Register for 1992. The poverty database compiles statics for countries around the world in the year 1990. For each sample, the dataset provides the following:\n",
    " - Country name\n",
    " - Live birth rate per 1000 in the population\n",
    " - Death rate per 1000 in the population\n",
    " - Infant deaths per 1,000 in the population, under 1 year old\n",
    " - Life expectancy at birth for males\n",
    " - Life expectancy at birth for females\n",
    " - Gross national product per capita in U.S. dollars\n",
    " - Regional Group:\n",
    "          1 = Eastern Europe\n",
    "          2 = South America and Mexico\n",
    "          3 = Western Europe, North America, Japan, Australia, New Zealand\n",
    "          4 = Middle East\n",
    "          5 = Asia\n",
    "          6 = Africa\n",
    " \n",
    "&emsp; The focus of the analysis below will be to establish a correlation between gross national product per capita and birth rates, death rates, infant mortality, population growth, as well as life expectancy. Due to this focus, five of the 97 samples will be disregarded for this project, as they do not contain gross national product data. This leaves 92 valid samples for analysis, which will prove sufficient, since the remainder of the dataset is complete and accurate. Below is a sample of the dataset structure, for reference."
   ]
  },
  {
   "cell_type": "code",
   "execution_count": 21,
   "metadata": {},
   "outputs": [
    {
     "data": {
      "text/html": [
       "<div>\n",
       "<style scoped>\n",
       "    .dataframe tbody tr th:only-of-type {\n",
       "        vertical-align: middle;\n",
       "    }\n",
       "\n",
       "    .dataframe tbody tr th {\n",
       "        vertical-align: top;\n",
       "    }\n",
       "\n",
       "    .dataframe thead th {\n",
       "        text-align: right;\n",
       "    }\n",
       "</style>\n",
       "<table border=\"1\" class=\"dataframe\">\n",
       "  <thead>\n",
       "    <tr style=\"text-align: right;\">\n",
       "      <th></th>\n",
       "      <th>births</th>\n",
       "      <th>deaths</th>\n",
       "      <th>infant_deaths</th>\n",
       "      <th>female_le</th>\n",
       "      <th>male_le</th>\n",
       "      <th>gnp</th>\n",
       "      <th>country_group</th>\n",
       "      <th>country</th>\n",
       "    </tr>\n",
       "  </thead>\n",
       "  <tbody>\n",
       "    <tr>\n",
       "      <th>0</th>\n",
       "      <td>24.7</td>\n",
       "      <td>5.7</td>\n",
       "      <td>30.8</td>\n",
       "      <td>69.6</td>\n",
       "      <td>75.5</td>\n",
       "      <td>600</td>\n",
       "      <td>1</td>\n",
       "      <td>Albania</td>\n",
       "    </tr>\n",
       "    <tr>\n",
       "      <th>1</th>\n",
       "      <td>12.5</td>\n",
       "      <td>11.9</td>\n",
       "      <td>14.4</td>\n",
       "      <td>68.3</td>\n",
       "      <td>74.7</td>\n",
       "      <td>2250</td>\n",
       "      <td>1</td>\n",
       "      <td>Bulgaria</td>\n",
       "    </tr>\n",
       "    <tr>\n",
       "      <th>2</th>\n",
       "      <td>13.4</td>\n",
       "      <td>11.7</td>\n",
       "      <td>11.3</td>\n",
       "      <td>71.8</td>\n",
       "      <td>77.7</td>\n",
       "      <td>2980</td>\n",
       "      <td>1</td>\n",
       "      <td>Czechoslovakia</td>\n",
       "    </tr>\n",
       "    <tr>\n",
       "      <th>4</th>\n",
       "      <td>11.6</td>\n",
       "      <td>13.4</td>\n",
       "      <td>14.8</td>\n",
       "      <td>65.4</td>\n",
       "      <td>73.8</td>\n",
       "      <td>2780</td>\n",
       "      <td>1</td>\n",
       "      <td>Hungary</td>\n",
       "    </tr>\n",
       "    <tr>\n",
       "      <th>5</th>\n",
       "      <td>14.3</td>\n",
       "      <td>10.2</td>\n",
       "      <td>16.0</td>\n",
       "      <td>67.2</td>\n",
       "      <td>75.7</td>\n",
       "      <td>1690</td>\n",
       "      <td>1</td>\n",
       "      <td>Poland</td>\n",
       "    </tr>\n",
       "  </tbody>\n",
       "</table>\n",
       "</div>"
      ],
      "text/plain": [
       "   births  deaths  infant_deaths  female_le  male_le   gnp  country_group  \\\n",
       "0    24.7     5.7           30.8       69.6     75.5   600              1   \n",
       "1    12.5    11.9           14.4       68.3     74.7  2250              1   \n",
       "2    13.4    11.7           11.3       71.8     77.7  2980              1   \n",
       "4    11.6    13.4           14.8       65.4     73.8  2780              1   \n",
       "5    14.3    10.2           16.0       67.2     75.7  1690              1   \n",
       "\n",
       "          country  \n",
       "0         Albania  \n",
       "1        Bulgaria  \n",
       "2  Czechoslovakia  \n",
       "4         Hungary  \n",
       "5          Poland  "
      ]
     },
     "execution_count": 21,
     "metadata": {},
     "output_type": "execute_result"
    }
   ],
   "source": [
    "import pandas\n",
    "povertydf = pandas.read_csv('poverty.csv')\n",
    "povertydf[povertydf['gnp'] != '*'].head()"
   ]
  },
  {
   "cell_type": "markdown",
   "metadata": {},
   "source": [
    "<br><br>\n",
    "### 2. Visualizations:"
   ]
  },
  {
   "cell_type": "markdown",
   "metadata": {},
   "source": [
    "#### Figure 2.1"
   ]
  },
  {
   "cell_type": "code",
   "execution_count": 1,
   "metadata": {
    "scrolled": false
   },
   "outputs": [
    {
     "name": "stderr",
     "output_type": "stream",
     "text": [
      "C:\\Users\\malyn\\Anaconda3\\lib\\site-packages\\IPython\\core\\display.py:689: UserWarning:\n",
      "\n",
      "Consider using IPython.display.IFrame instead\n",
      "\n"
     ]
    },
    {
     "data": {
      "text/html": [
       "<iframe id=\"igraph\" scrolling=\"no\" style=\"border:none;\" seamless=\"seamless\" src=\"https://plot.ly/~malynch7/143.embed\" height=\"525px\" width=\"100%\"></iframe>"
      ],
      "text/plain": [
       "<chart_studio.tools.PlotlyDisplay object>"
      ]
     },
     "execution_count": 1,
     "metadata": {},
     "output_type": "execute_result"
    }
   ],
   "source": [
    "# GNP Choropleth \n",
    "import pandas\n",
    "import plotly.plotly as py\n",
    "import plotly.graph_objs as go\n",
    "\n",
    "povertydf = pandas.read_csv('poverty.csv')\n",
    "povertydf = povertydf[povertydf['gnp'] != '*'] #drop missing values\n",
    "\n",
    "data = [go.Choropleth(autocolorscale = False,\n",
    "                      colorscale = 'Blues',\n",
    "                      reversescale = True,\n",
    "                      locations = povertydf['country'],\n",
    "                      z = povertydf['gnp'],\n",
    "                      locationmode = 'country names',\n",
    "                      colorbar = go.choropleth.ColorBar(title = \"GNP Per Capita (USD)\"))]\n",
    "\n",
    "layout = go.Layout(title = go.layout.Title(text = 'Distributed Gross National Product Per Capita'),\n",
    "                   geo = go.layout.Geo(scope = 'world'))\n",
    "\n",
    "fig = go.Figure(data = data, layout = layout)\n",
    "py.iplot(fig, filename = \"Distributed Gross National Product Per Capita\")"
   ]
  },
  {
   "cell_type": "markdown",
   "metadata": {},
   "source": [
    "&emsp; Figure 2.1 is a choropleth map showing the distribution of global wealth, using gross national product as the metric. Here the data variables, country and gross national product, are mapped to the visual variables, position and color, respectively. The map shows the majority of global wealth is concentrated in North America and Europe, while South America, Asia and Africa show strong signs of impoverishment."
   ]
  },
  {
   "cell_type": "markdown",
   "metadata": {},
   "source": [
    "<br>\n",
    "\n",
    "#### Figure 2.2"
   ]
  },
  {
   "cell_type": "code",
   "execution_count": 2,
   "metadata": {},
   "outputs": [
    {
     "name": "stderr",
     "output_type": "stream",
     "text": [
      "C:\\Users\\malyn\\Anaconda3\\lib\\site-packages\\IPython\\core\\display.py:689: UserWarning:\n",
      "\n",
      "Consider using IPython.display.IFrame instead\n",
      "\n"
     ]
    },
    {
     "data": {
      "text/html": [
       "<iframe id=\"igraph\" scrolling=\"no\" style=\"border:none;\" seamless=\"seamless\" src=\"https://plot.ly/~malynch7/145.embed\" height=\"525px\" width=\"100%\"></iframe>"
      ],
      "text/plain": [
       "<chart_studio.tools.PlotlyDisplay object>"
      ]
     },
     "execution_count": 2,
     "metadata": {},
     "output_type": "execute_result"
    }
   ],
   "source": [
    "# GNP Bar Chart\n",
    "import pandas\n",
    "import plotly.plotly as py\n",
    "import plotly.graph_objs as go\n",
    "\n",
    "povertydf = pandas.read_csv('poverty.csv')\n",
    "povertydf = povertydf[povertydf['gnp'] != '*'] #drop missing values\n",
    "povertydf = povertydf.astype({'gnp': 'int64'}) #GNP from object to int\n",
    "\n",
    "sorteddf = povertydf.sort_values(by = ['gnp'], ascending = False)\n",
    "\n",
    "data = [go.Bar(y = sorteddf['gnp'],\n",
    "               x = sorteddf['country'],\n",
    "               name = 'Gross National Product')]\n",
    "\n",
    "layout = go.Layout(title = 'Gross National Product By Country',\n",
    "                   yaxis = go.layout.YAxis(title = 'Gross National Product Per Capita (USD)'),\n",
    "                   xaxis = go.layout.XAxis(title = 'Country', automargin = True))\n",
    "\n",
    "fig = go.Figure(data = data, layout = layout)\n",
    "py.iplot(fig, filename = 'Gross National Product By Country')"
   ]
  },
  {
   "cell_type": "markdown",
   "metadata": {},
   "source": [
    "&emsp; Figure 2.2 further illustrates the distribution of global wealth, using gross national product as the metric. Here the data variables country and gross national product are mapped to x and y axes, respectively. The chart shows the countries with the highest gross national product in descending order to draw contrast between, and better clarify the gap between, Switzerland, as the wealthiest, and Mozambique, as the most impoverished. We can also observe an exponential decrease across the graph, indicating that those nations that are wealthier are substantially so."
   ]
  },
  {
   "cell_type": "markdown",
   "metadata": {},
   "source": [
    "<br>\n",
    "\n",
    "#### Figure 2.3"
   ]
  },
  {
   "cell_type": "code",
   "execution_count": 3,
   "metadata": {},
   "outputs": [
    {
     "data": {
      "text/html": [
       "<iframe id=\"igraph\" scrolling=\"no\" style=\"border:none;\" seamless=\"seamless\" src=\"https://plot.ly/~malynch7/147.embed\" height=\"525px\" width=\"100%\"></iframe>"
      ],
      "text/plain": [
       "<chart_studio.tools.PlotlyDisplay object>"
      ]
     },
     "execution_count": 3,
     "metadata": {},
     "output_type": "execute_result"
    }
   ],
   "source": [
    "# GNP Distribution Box Plot\n",
    "import pandas\n",
    "import plotly.plotly as py\n",
    "import plotly.graph_objs as go\n",
    "\n",
    "povertydf = pandas.read_csv('poverty.csv')\n",
    "povertydf = povertydf[povertydf['gnp'] != '*'] #drop missing values\n",
    "\n",
    "data = [go.Box(x = povertydf['gnp'], name = 'GNP Distribution')]\n",
    "\n",
    "layout = go.Layout(title = 'Gross National Product Distribution',\n",
    "                   xaxis = go.layout.XAxis(title = 'Gross National Product Per Capita (USD)'))\n",
    "\n",
    "fig = go.Figure(data = data, layout = layout)\n",
    "py.iplot(fig, filename = 'Gross National Product Distribution')"
   ]
  },
  {
   "cell_type": "markdown",
   "metadata": {},
   "source": [
    "&emsp; Figure 2.3 is a box plot visualizing the distribution of global wealth, using gross national product as the metric. Here the data variable gross national product is mapped to x axis. The plot gives an overall impression of gross national product distribution. Importantly, we can see that the median value is very low, especially when compared to the upper fence. The substantial number of outliers indicates that a select few of the wealthiest countries fall well above the standard deviations and upper fence, producing vast amounts of wealth."
   ]
  },
  {
   "cell_type": "markdown",
   "metadata": {},
   "source": [
    "<br>\n",
    "\n",
    "#### Figure 2.4"
   ]
  },
  {
   "cell_type": "code",
   "execution_count": 4,
   "metadata": {
    "scrolled": false
   },
   "outputs": [
    {
     "data": {
      "text/html": [
       "<iframe id=\"igraph\" scrolling=\"no\" style=\"border:none;\" seamless=\"seamless\" src=\"https://plot.ly/~malynch7/149.embed\" height=\"525px\" width=\"100%\"></iframe>"
      ],
      "text/plain": [
       "<chart_studio.tools.PlotlyDisplay object>"
      ]
     },
     "execution_count": 4,
     "metadata": {},
     "output_type": "execute_result"
    }
   ],
   "source": [
    "# Birth Rate v. Death Rate Box Plot\n",
    "import pandas\n",
    "import plotly.plotly as py\n",
    "import plotly.graph_objs as go\n",
    "\n",
    "povertydf = pandas.read_csv('poverty.csv')\n",
    "povertydf = povertydf[povertydf['gnp'] != '*'] #drop missing values\n",
    "\n",
    "data = [go.Box(y = povertydf['births'],\n",
    "               name = 'Births Per 1000'),\n",
    "        go.Box(y = povertydf['deaths'],\n",
    "               name = 'Deaths per 1000')]\n",
    "\n",
    "layout = go.Layout(title = 'Distributed Birth and Death Rates')\n",
    "\n",
    "fig = go.Figure(data = data, layout = layout)\n",
    "py.iplot(fig, filename = \"Distributed Birth and Death Rates\")"
   ]
  },
  {
   "cell_type": "markdown",
   "metadata": {},
   "source": [
    "&emsp; The box plot above (figure 2.4) contrasts global birth rates with global death rates. Here the data variables, birth and death rate per 1000 in the country's population, are both mapped to the y axis and delivered side-by-side. This shows an overall trend of population growth, globally. Note should be taken of the difference in variance between the two plots. Death rate, for instance, does not deviate substantially, but there are outliers. These outliers could be attributed to war, disease or famine in these countries. Birth rate, conversely, varies greatly between countries, indicating significant factors at play."
   ]
  },
  {
   "cell_type": "markdown",
   "metadata": {},
   "source": [
    "<br>\n",
    "\n",
    "#### Figure 2.5"
   ]
  },
  {
   "cell_type": "code",
   "execution_count": 5,
   "metadata": {},
   "outputs": [
    {
     "data": {
      "text/html": [
       "<iframe id=\"igraph\" scrolling=\"no\" style=\"border:none;\" seamless=\"seamless\" src=\"https://plot.ly/~malynch7/151.embed\" height=\"525px\" width=\"100%\"></iframe>"
      ],
      "text/plain": [
       "<chart_studio.tools.PlotlyDisplay object>"
      ]
     },
     "execution_count": 5,
     "metadata": {},
     "output_type": "execute_result"
    }
   ],
   "source": [
    "# Population Growth Choropleth\n",
    "import pandas\n",
    "import plotly.plotly as py\n",
    "import plotly.graph_objs as go\n",
    "\n",
    "povertydf = pandas.read_csv('poverty.csv')\n",
    "povertydf = povertydf[povertydf['gnp'] != '*'] #drop missing values\n",
    "povertydf['growth'] = (povertydf['births'] - povertydf['deaths']) / 10\n",
    "\n",
    "growthdf = povertydf[povertydf['growth'] > 0]\n",
    "declinedf = povertydf[povertydf['growth'] <= 0]\n",
    "\n",
    "data = [go.Choropleth(name = 'Growth',\n",
    "                      autocolorscale = False,\n",
    "                      colorscale = 'Greens',\n",
    "                      reversescale = True,\n",
    "                      locations = growthdf['country'],\n",
    "                      z = growthdf['growth'],\n",
    "                      locationmode = 'country names',\n",
    "                      colorbar = go.choropleth.ColorBar(title = \"% Growth\")),\n",
    "        go.Choropleth(name = 'Decline',\n",
    "                      autocolorscale = False,\n",
    "                      colorscale = 'Reds',\n",
    "                      reversescale = True,\n",
    "                      locations = declinedf['country'],\n",
    "                      z = declinedf['growth'],\n",
    "                      locationmode = 'country names',\n",
    "                      colorbar = go.choropleth.ColorBar(title = \"% Decline\",\n",
    "                                                        x = 1.2))]\n",
    "\n",
    "layout = go.Layout(title = go.layout.Title(text = 'Annual Population Growth'),\n",
    "                   geo = go.layout.Geo(scope = 'world'))\n",
    "\n",
    "fig = go.Figure(data = data, layout = layout)\n",
    "py.iplot(fig, filename = \"Annual Population Growth\")"
   ]
  },
  {
   "cell_type": "markdown",
   "metadata": {},
   "source": [
    "&emsp; This choropleth map (figure 2.5) graphically shows the distribution of global population growth using position and green and red color scales. This choropleth is nearly an exact negative image of figure 2.1, signaling that increased GNP and wealth leads to slower birth rates. Meanwhile, the most impoverished nations find themselves on the higher end of that distribution. Only one country on the graph shows population decline, Hungary. This is likely attributed to the nation’s struggled transition away from communist rule, and the ensuing violence and poverty."
   ]
  },
  {
   "cell_type": "markdown",
   "metadata": {},
   "source": [
    "<br>\n",
    "\n",
    "#### Figure 2.6"
   ]
  },
  {
   "cell_type": "code",
   "execution_count": 7,
   "metadata": {},
   "outputs": [
    {
     "data": {
      "image/png": "[encoded data removed]",
      "text/plain": [
       "<Figure size 864x432 with 1 Axes>"
      ]
     },
     "metadata": {
      "needs_background": "light"
     },
     "output_type": "display_data"
    }
   ],
   "source": [
    "# GNP vs Population Growth Regression Plot\n",
    "import pandas\n",
    "import seaborn as sns\n",
    "import matplotlib.pyplot as plt\n",
    "\n",
    "povertydf = pandas.read_csv('poverty.csv')\n",
    "povertydf = povertydf[povertydf['gnp'] != '*'] #drop missing values\n",
    "povertydf = povertydf.astype({'gnp': 'int64'}) #GNP from object to int\n",
    "povertydf['growth'] = (povertydf['births'] - povertydf['deaths']) / 10\n",
    "\n",
    "plt.figure(figsize=(12, 6))\n",
    "vis = sns.regplot(x = 'gnp', y = 'growth',data = povertydf)\n",
    "vis.set(xlabel = 'Gross National Product Per Capita',\n",
    "        ylabel = '% Annual Population Growth',\n",
    "        title = 'Population Growth vs. Gross National Product')\n",
    "plt.show()"
   ]
  },
  {
   "cell_type": "markdown",
   "metadata": {},
   "source": [
    "&emsp; Figure 2.6 is a seaborn regression plot mapping gross national product and population growth to the x and y axes, respectively. This graph establishes a general correlative relationship between annual population growth and gross national product per capita. As gross national product rises, population growth declines."
   ]
  },
  {
   "cell_type": "markdown",
   "metadata": {},
   "source": [
    "<br>\n",
    "\n",
    "#### Figure 2.7"
   ]
  },
  {
   "cell_type": "code",
   "execution_count": 12,
   "metadata": {},
   "outputs": [
    {
     "data": {
      "image/png": "[encoded data removed]",
      "text/plain": [
       "<Figure size 864x432 with 1 Axes>"
      ]
     },
     "metadata": {
      "needs_background": "light"
     },
     "output_type": "display_data"
    }
   ],
   "source": [
    "# GNP vs Average Life Expectancy Regression Plot\n",
    "import pandas\n",
    "import seaborn as sns\n",
    "import matplotlib.pyplot as plt\n",
    "\n",
    "povertydf = pandas.read_csv('poverty.csv')\n",
    "povertydf = povertydf[povertydf['gnp'] != '*'] #drop missing values\n",
    "povertydf = povertydf.astype({'gnp': 'int64'}) #GNP from object to int\n",
    "povertydf['avg_le'] = (povertydf['male_le'] + povertydf['female_le']) / 2\n",
    "\n",
    "plt.figure(figsize=(12, 6))\n",
    "vis = sns.regplot(x = 'gnp', y = 'avg_le', data = povertydf)\n",
    "vis.set(xlabel='Gross National Product Per Capita',\n",
    "        ylabel='Average Life Expectancy',\n",
    "        title = 'Life Expectancy vs. Gross National Product')\n",
    "plt.show()"
   ]
  },
  {
   "cell_type": "markdown",
   "metadata": {},
   "source": [
    "&emsp; Figure 2.7 is a seaborn regression plot mapping gross national product and average life expectancy to the x and y axes, respectively. Average life expectancy was calculated by averaging the male life expectancy and female life expectancy metrics for each nation. This graph establishes a general correlative relationship between average life expectancy and gross national product per capita. As gross national product rises, average life expectancy does as well. Although, It does plateau noticeably, indicating a limit on life expectancy or GNP's effectiveness at raising it."
   ]
  },
  {
   "cell_type": "markdown",
   "metadata": {},
   "source": [
    "<br>\n",
    "\n",
    "#### Figure 2.8"
   ]
  },
  {
   "cell_type": "code",
   "execution_count": 8,
   "metadata": {},
   "outputs": [
    {
     "data": {
      "image/png": "[encoded data removed]",
      "text/plain": [
       "<Figure size 864x432 with 1 Axes>"
      ]
     },
     "metadata": {
      "needs_background": "light"
     },
     "output_type": "display_data"
    }
   ],
   "source": [
    "# GNP vs Infant Mortality Rate Regression Plot\n",
    "import pandas\n",
    "import seaborn as sns\n",
    "import matplotlib.pyplot as plt\n",
    "\n",
    "povertydf = pandas.read_csv('poverty.csv')\n",
    "povertydf = povertydf[povertydf['gnp'] != '*'] #drop missing values\n",
    "povertydf = povertydf.astype({'gnp': 'int64'}) #GNP from object to int\n",
    "povertydf['infant_deaths'] = povertydf['infant_deaths'] / 10\n",
    "\n",
    "plt.figure(figsize=(12, 6))\n",
    "vis = sns.regplot(x = 'gnp', y = 'infant_deaths', data = povertydf)\n",
    "vis.set(xlabel='Gross National Product Per Capita',\n",
    "        ylabel='Infant Mortality Rate (%)',\n",
    "        title = 'Infant Mortality Rate vs. Gross National Product')\n",
    "plt.show()"
   ]
  },
  {
   "cell_type": "markdown",
   "metadata": {},
   "source": [
    "&emsp; Figure 2.8 is a seaborn regression plot mapping gross national product and infant mortality rate to the x and y axes, respectively. This graph establishes a general correlative relationship between infant mortality rate and gross national product per capita. As gross national product rises, infant mortality declines. This is likely due to better healthcare and more available access to it."
   ]
  },
  {
   "cell_type": "markdown",
   "metadata": {},
   "source": [
    "<br>\n",
    "\n",
    "#### Figure 2.9"
   ]
  },
  {
   "cell_type": "code",
   "execution_count": 11,
   "metadata": {},
   "outputs": [
    {
     "name": "stderr",
     "output_type": "stream",
     "text": [
      "C:\\Users\\malyn\\Anaconda3\\lib\\site-packages\\IPython\\core\\display.py:689: UserWarning:\n",
      "\n",
      "Consider using IPython.display.IFrame instead\n",
      "\n"
     ]
    },
    {
     "data": {
      "text/html": [
       "<iframe id=\"igraph\" scrolling=\"no\" style=\"border:none;\" seamless=\"seamless\" src=\"https://plot.ly/~malynch7/155.embed\" height=\"525px\" width=\"100%\"></iframe>"
      ],
      "text/plain": [
       "<chart_studio.tools.PlotlyDisplay object>"
      ]
     },
     "execution_count": 11,
     "metadata": {},
     "output_type": "execute_result"
    }
   ],
   "source": [
    "# Birth rate / Death rate  Bar Chart = Population Growth by Country\n",
    "import pandas \n",
    "import plotly.plotly as py\n",
    "import plotly.graph_objs as go\n",
    "import plotly\n",
    "\n",
    "povertydf = pandas.read_csv('poverty-R.csv')\n",
    "povertydf = povertydf[povertydf['gnp'] != '*'] #drop missing values\n",
    "\n",
    "\n",
    "\n",
    "fig = go.Figure()\n",
    "groups = []\n",
    "\n",
    "#sort by country group\n",
    "for group, group_df in povertydf.groupby('country_group'):\n",
    "    groups.append(group)\n",
    "    fig.add_bar(x=group_df.country,\n",
    "                y=group_df.births,\n",
    "                name=str(group)+ \" births\",\n",
    "                marker_color = 'blue'),\n",
    "    fig.add_bar(x=group_df.country,\n",
    "                y=group_df.deaths,\n",
    "                name=str(group) + \" deaths\",\n",
    "                marker_color = 'orange')\n",
    "#dropdown buttons\n",
    "fig.layout.update(\n",
    "    updatemenus=[\n",
    "        go.layout.Updatemenu(\n",
    "        active=0,\n",
    "        buttons=list([\n",
    "                dict(label=\"Both\",\n",
    "                     method=\"update\",\n",
    "                     args=[{\"visible\": [True, True]},\n",
    "                           {\"title\": \"Birth and Death Comparison\",}]),\n",
    "                dict(label=\"Births\",\n",
    "                     method=\"update\",\n",
    "                     args=[{\"visible\": [True, False]},\n",
    "                           {\"title\": \"Birth Comparison\",}]),\n",
    "                dict(label=\"Deaths\",\n",
    "                     method=\"update\",\n",
    "                     args=[{\"visible\": [False, True]},\n",
    "                           {\"title\": \"Death Comparison\",}]),       \n",
    "            ]),\n",
    "        )\n",
    "    ])\n",
    "fig.layout.update(title = 'Birth and Death Comparison',\n",
    "                  xaxis = go.layout.XAxis(title = 'Countries'),\n",
    "                  yaxis = go.layout.YAxis(title = 'Population per 1000'))\n",
    "\n",
    "py.iplot(fig)"
   ]
  },
  {
   "cell_type": "markdown",
   "metadata": {},
   "source": [
    "&emsp; Figure 2.9 illustrates the comparison of birth and death rates between each of the countries in 1990. The countries are separated by regions and based on the graph the African region has the biggest birth and death rate compared to the other regions. Analyzing each region, the C. & S. American region had the one of the most notable outliers. Bolivia had the highest birth population and Mexico had the highest death population within its region.    Figure 2.9 illustrates the comparison of birth and death rates between each of the countries in 1990. Within the legend  there is a list of the regions that can be interacted with to selectivly. "
   ]
  },
  {
   "cell_type": "markdown",
   "metadata": {},
   "source": [
    "<br>\n",
    "\n",
    "#### Figure 2.10"
   ]
  },
  {
   "cell_type": "code",
   "execution_count": 12,
   "metadata": {
    "scrolled": false
   },
   "outputs": [
    {
     "name": "stderr",
     "output_type": "stream",
     "text": [
      "C:\\Users\\malyn\\Anaconda3\\lib\\site-packages\\IPython\\core\\display.py:689: UserWarning:\n",
      "\n",
      "Consider using IPython.display.IFrame instead\n",
      "\n"
     ]
    },
    {
     "data": {
      "text/html": [
       "<iframe id=\"igraph\" scrolling=\"no\" style=\"border:none;\" seamless=\"seamless\" src=\"https://plot.ly/~malynch7/157.embed\" height=\"525px\" width=\"100%\"></iframe>"
      ],
      "text/plain": [
       "<chart_studio.tools.PlotlyDisplay object>"
      ]
     },
     "execution_count": 12,
     "metadata": {},
     "output_type": "execute_result"
    }
   ],
   "source": [
    "# Male vs female life expectancy by region/country/Global\n",
    "import pandas\n",
    "import plotly.plotly as py\n",
    "import plotly.graph_objs as go\n",
    "\n",
    "povertydf = pandas.read_csv('poverty-R.csv')\n",
    "povertydf = povertydf[povertydf['gnp'] != '*'] #drop missing values\n",
    "\n",
    "fig =go.Figure()\n",
    "fig.add_box(x = list(povertydf.country_group),\n",
    "    y = povertydf['male_le'],\n",
    "               name = 'Male',\n",
    "           marker_color = 'blue'),\n",
    "fig.add_box(x = povertydf.country_group,\n",
    "            y = povertydf['female_le'],\n",
    "               name = 'Female',\n",
    "           marker_color = 'pink')\n",
    "fig.layout.update(\n",
    "    updatemenus=[\n",
    "go.layout.Updatemenu(\n",
    "        active=0,\n",
    "        buttons=list([\n",
    "                dict(label=\"Both\",\n",
    "                     method=\"update\",\n",
    "                     args=[{\"visible\": [True, True]},\n",
    "                           {\"title\": \"Male & Female Life Expectancy\",}]),\n",
    "                dict(label=\"Males\",\n",
    "                     method=\"update\",\n",
    "                     args=[{\"visible\": [True, False]},\n",
    "                           {\"title\": \"Male Life Expectancy\",}]),\n",
    "                dict(label=\"Females\",\n",
    "                     method=\"update\",\n",
    "                     args=[{\"visible\": [False, True]},\n",
    "                           {\"title\": \"Female Life Expectancy\",}]),       \n",
    "            ]),\n",
    "        )\n",
    "    ])\n",
    "fig.layout.update(title= \"Male & Female Life Expectancy\",\n",
    "                  xaxis = go.layout.XAxis(title = 'Regions'),\n",
    "                  yaxis = go.layout.YAxis(title = 'Age(Year)'))\n",
    "py.iplot(fig)"
   ]
  },
  {
   "cell_type": "markdown",
   "metadata": {},
   "source": [
    "&emsp; Figure 2.10 illustrates the Life expectancy between males and females in each region. Based on the graph, all but one region didn’t have their box chart overlapping, the African Region, which had the males having a higher life expectancy then females. The Asian Region had the biggest plot compared to other regions, which shows that the life expectancy in that region was rather scattered. W. Euro, N.A. & Pacific had one of the smallest boxes and highest life expectancy."
   ]
  },
  {
   "cell_type": "markdown",
   "metadata": {},
   "source": [
    "<br>\n",
    "\n",
    "#### Figure 2.11\n"
   ]
  },
  {
   "cell_type": "code",
   "execution_count": 13,
   "metadata": {},
   "outputs": [
    {
     "name": "stderr",
     "output_type": "stream",
     "text": [
      "C:\\Users\\malyn\\Anaconda3\\lib\\site-packages\\IPython\\core\\display.py:689: UserWarning:\n",
      "\n",
      "Consider using IPython.display.IFrame instead\n",
      "\n"
     ]
    },
    {
     "data": {
      "text/html": [
       "<iframe id=\"igraph\" scrolling=\"no\" style=\"border:none;\" seamless=\"seamless\" src=\"https://plot.ly/~malynch7/159.embed\" height=\"525px\" width=\"100%\"></iframe>"
      ],
      "text/plain": [
       "<chart_studio.tools.PlotlyDisplay object>"
      ]
     },
     "execution_count": 13,
     "metadata": {},
     "output_type": "execute_result"
    }
   ],
   "source": [
    "# Scatter plots: GNP vs death rate, birth rate\n",
    "import pandas \n",
    "import plotly.plotly as py\n",
    "import plotly.graph_objs as go\n",
    "import plotly\n",
    "\n",
    "povertydf = pandas.read_csv('poverty.csv')\n",
    "povertydf = povertydf[povertydf['gnp'] != '*'] #drop missing values\n",
    "sorteddf = povertydf.sort_values(by = ['births'], ascending = False)\n",
    "\n",
    "fig = go.Figure()\n",
    "fig.add_trace(\n",
    "    go.Scatter(x=sorteddf.gnp,\n",
    "                y=sorteddf.births,\n",
    "                mode ='markers',\n",
    "               name = 'Births',\n",
    "               hovertext =sorteddf.country,\n",
    "                marker =dict(\n",
    "                    color = 'blue',\n",
    "                symbol ='triangle-up')\n",
    ")),\n",
    "fig.add_trace(\n",
    "    go.Scatter(x=sorteddf.gnp,\n",
    "                y=sorteddf.deaths,\n",
    "                mode='markers',\n",
    "                name= 'Deaths',\n",
    "               hovertext =sorteddf.country,\n",
    "                  marker =dict(\n",
    "                    color = 'orange',\n",
    "                symbol ='x')\n",
    "))\n",
    "\n",
    "    \n",
    "fig.layout.update(   annotations=[\n",
    "        go.layout.Annotation(\n",
    "            x=21790,\n",
    "            y=16.7,\n",
    "            xref=\"x\",\n",
    "            yref=\"y\",\n",
    "            text=\"U.S.A.\",\n",
    "            showarrow=True,\n",
    "            font=dict(\n",
    "                family=\"Courier New, monospace\",\n",
    "                size=16,\n",
    "                color=\"#ffffff\"\n",
    "            ),\n",
    "            align=\"center\",\n",
    "            arrowhead=2,\n",
    "            arrowsize=1,\n",
    "            arrowwidth=2,\n",
    "            arrowcolor=\"grey\",\n",
    "            ax=20,\n",
    "            ay=-30,\n",
    "            bordercolor=\"#c7c7c7\",\n",
    "            borderwidth=2,\n",
    "            borderpad=4,\n",
    "            bgcolor=\"green\",\n",
    "            opacity=0.8\n",
    "        )\n",
    "    ],\n",
    "     updatemenus=[\n",
    "        go.layout.Updatemenu(\n",
    "        active=0,\n",
    "        buttons=list([\n",
    "                dict(label=\"Both\",\n",
    "                     method=\"update\",\n",
    "                     args=[{\"visible\": [True, True]},\n",
    "                           {\"title\": \"Birth and Death Comparison\",}]),\n",
    "                dict(label=\"Births\",\n",
    "                     method=\"update\",\n",
    "                     args=[{\"visible\": [True, False]},\n",
    "                           {\"title\": \"Birth Comparison\",}]),\n",
    "                dict(label=\"Deaths\",\n",
    "                     method=\"update\",\n",
    "                     args=[{\"visible\": [False, True]},\n",
    "                           {\"title\": \"Death Comparison\",}]),       \n",
    "            ]),\n",
    "        )\n",
    "    ],\n",
    "\n",
    "\n",
    "                  title = 'Gross National Products Vs. Birth & Death Rates',\n",
    "                  xaxis = go.layout.XAxis(title = 'Gross National Products (USD)'),\n",
    "                  yaxis = go.layout.YAxis(title = 'Population per 1000'))\n",
    "py.iplot(fig)"
   ]
  },
  {
   "cell_type": "markdown",
   "metadata": {},
   "source": [
    "&emsp; Figure 2.11 illustrates countries gross national products (gnp) between birth and death rates. From the graph, each dot represents a country and majority of them are all clustered towards a gnp of under 5k. The graph shows that countries with low gnp have a higher birth rates then one with higher gnp, the same is shown as well with death rates.  The dot for U.S.A. is a good example of the vast difference of birth and death rate, when gnp is above 20k."
   ]
  },
  {
   "cell_type": "markdown",
   "metadata": {},
   "source": [
    "<br>\n",
    "\n",
    "#### Figure 2.12"
   ]
  },
  {
   "cell_type": "code",
   "execution_count": 14,
   "metadata": {},
   "outputs": [
    {
     "name": "stderr",
     "output_type": "stream",
     "text": [
      "C:\\Users\\malyn\\Anaconda3\\lib\\site-packages\\IPython\\core\\display.py:689: UserWarning:\n",
      "\n",
      "Consider using IPython.display.IFrame instead\n",
      "\n"
     ]
    },
    {
     "data": {
      "text/html": [
       "<iframe id=\"igraph\" scrolling=\"no\" style=\"border:none;\" seamless=\"seamless\" src=\"https://plot.ly/~malynch7/161.embed\" height=\"525px\" width=\"100%\"></iframe>"
      ],
      "text/plain": [
       "<chart_studio.tools.PlotlyDisplay object>"
      ]
     },
     "execution_count": 14,
     "metadata": {},
     "output_type": "execute_result"
    }
   ],
   "source": [
    "# Avg Life Expectancy Choropleth\n",
    "\n",
    "import pandas\n",
    "import plotly.plotly as py\n",
    "import plotly.graph_objs as go\n",
    "import numpy as np\n",
    "\n",
    "povertydf = pandas.read_csv('poverty.csv')\n",
    "povertydf = povertydf[povertydf['gnp'] != '*'] #drop missing values\n",
    "\n",
    "data = [go.Choropleth(autocolorscale = False,\n",
    "                      colorscale = 'Viridis',\n",
    "                      reversescale = False,\n",
    "                      locations = povertydf['country'],\n",
    "                      z = (np.around(povertydf['male_le'] + povertydf['female_le']) / 2),\n",
    "                      locationmode = 'country names',\n",
    "                      colorbar = go.choropleth.ColorBar(title = \"Age (Year)\"))]\n",
    "\n",
    "layout = go.Layout(title = go.layout.Title(text = 'Life Expectancy within Regions'),\n",
    "                   geo = go.layout.Geo(scope = 'world'))\n",
    "\n",
    "fig = go.Figure(data = data, layout = layout)\n",
    "py.iplot(fig, show_link = False)"
   ]
  },
  {
   "cell_type": "markdown",
   "metadata": {},
   "source": [
    "&emsp; Figure 2.12 is a choropleth of the average life expectancy of each country. The average life expectancy was calculated from both the male and female life expectancy. The map shows that countries known to have stable economy tend to have a higher life expectancy then countries who don’t. On that basis, many of the countries located in the southern part of Africa struggle to get into the high 50’s."
   ]
  },
  {
   "cell_type": "markdown",
   "metadata": {},
   "source": [
    "<br>\n",
    "\n",
    "#### Figure 2.13"
   ]
  },
  {
   "cell_type": "code",
   "execution_count": 15,
   "metadata": {},
   "outputs": [
    {
     "name": "stderr",
     "output_type": "stream",
     "text": [
      "C:\\Users\\malyn\\Anaconda3\\lib\\site-packages\\IPython\\core\\display.py:689: UserWarning:\n",
      "\n",
      "Consider using IPython.display.IFrame instead\n",
      "\n"
     ]
    },
    {
     "data": {
      "text/html": [
       "<iframe id=\"igraph\" scrolling=\"no\" style=\"border:none;\" seamless=\"seamless\" src=\"https://plot.ly/~malynch7/163.embed\" height=\"525px\" width=\"100%\"></iframe>"
      ],
      "text/plain": [
       "<chart_studio.tools.PlotlyDisplay object>"
      ]
     },
     "execution_count": 15,
     "metadata": {},
     "output_type": "execute_result"
    }
   ],
   "source": [
    "import pandas\n",
    "import plotly.plotly as py\n",
    "import plotly.graph_objs as go\n",
    "\n",
    "povertydf = pandas.read_csv('poverty.csv')\n",
    "povertydf = povertydf[povertydf['gnp'] != '*'] #drop missing values\n",
    "sorteddf = povertydf.sort_values(by = ['infant_deaths'], ascending = False)\n",
    "\n",
    "fig = go.Figure()\n",
    "fig.add_trace(go.Scatter( y=sorteddf.deaths, fill='tozeroy',\n",
    "                    name = 'Country Deaths',\n",
    "                         mode='none', # override default markers+lines\n",
    "                                        hovertext =sorteddf.country\n",
    "                    ))\n",
    "fig.add_trace(go.Scatter( y=sorteddf.infant_deaths, fill='tonexty',\n",
    "                    name = 'Infants under 1',\n",
    "                         mode= 'none',\n",
    "                 hovertext =sorteddf.country))\n",
    "\n",
    "fig.layout.update(annotations=[\n",
    "        go.layout.Annotation(\n",
    "            x=72,\n",
    "            y=9.1,\n",
    "            xref=\"x\",\n",
    "            yref=\"y\",\n",
    "            text=\"U.S.A.\",\n",
    "            showarrow=True,\n",
    "            font=dict(\n",
    "                family=\"Courier New, monospace\",\n",
    "                size=16,\n",
    "                color=\"#ffffff\"\n",
    "            ),\n",
    "            align=\"center\",\n",
    "            arrowhead=2,\n",
    "            arrowsize=1,\n",
    "            arrowwidth=2,\n",
    "            arrowcolor=\"grey\",\n",
    "            ax=20,\n",
    "            ay=-30,\n",
    "            bordercolor=\"#c7c7c7\",\n",
    "            borderwidth=2,\n",
    "            borderpad=4,\n",
    "            bgcolor=\"black\",\n",
    "            opacity=0.8\n",
    "        )\n",
    "    ],\n",
    "                  title= \"Infant Death Rate vs Overall Death Rate\",\n",
    "                  xaxis = go.layout.XAxis(title = \"Number of countries\"),\n",
    "                  yaxis = go.layout.YAxis(title = 'Population per 1000'))\n",
    "py.iplot(fig)"
   ]
  },
  {
   "cell_type": "markdown",
   "metadata": {},
   "source": [
    "&emsp; Figure 2.13 compares the death rate for infants under one year old and country's overall death rate. The most obvious thing to note in this graph is that there are more infants deaths then the average death toll overall. Towards the end of the line graph is when the average death toll begins to exceed infants death toll. "
   ]
  },
  {
   "cell_type": "markdown",
   "metadata": {},
   "source": [
    "<br>\n",
    "\n",
    "#### Figure 2.14"
   ]
  },
  {
   "cell_type": "code",
   "execution_count": 12,
   "metadata": {},
   "outputs": [
    {
     "data": {
      "image/png": "[encoded data removed]",
      "text/plain": [
       "<Figure size 864x432 with 1 Axes>"
      ]
     },
     "metadata": {
      "needs_background": "light"
     },
     "output_type": "display_data"
    }
   ],
   "source": [
    "import pandas\n",
    "import seaborn as sns\n",
    "import matplotlib.pyplot as plt\n",
    "\n",
    "povertydf = pandas.read_csv('poverty.csv')\n",
    "povertydf = povertydf[povertydf['gnp'] != '*'] #drop missing values\n",
    "povertydf = povertydf.astype({'gnp': 'int64'}) #GNP from object to int\n",
    "povertydf['avg_le'] = (povertydf['male_le'] + povertydf['female_le']) / 2\n",
    "povertydf['growth'] = (povertydf['births'] - povertydf['deaths'])\n",
    "\n",
    "plt.figure(figsize=(12, 6))\n",
    "vis = sns.regplot(x = 'avg_le', y = 'growth',data = povertydf)\n",
    "vis.set(xlabel = 'Age (Year)',\n",
    "        ylabel = '1990 Population Growth',\n",
    "        title = 'Population Growth vs. Average Life Expectancy')\n",
    "plt.show()"
   ]
  },
  {
   "cell_type": "markdown",
   "metadata": {},
   "source": [
    "&emsp; Figure 2.14 is a linear regression chart that shows population growth between the average life expectancy. The chart show the population growth is on a downward slope as the average life expectancy begins to increase. "
   ]
  },
  {
   "cell_type": "markdown",
   "metadata": {},
   "source": [
    "<br><br>\n",
    "### 3. Conclusion:"
   ]
  },
  {
   "cell_type": "markdown",
   "metadata": {},
   "source": [
    "&emsp; From this data set and the charts presented, it is evident that poverty has a big impact on the population. Nations shown to have higher gross national product tend to have higher life expectancy, fewer mortality rates, and fewer birth rates. Meanwhile, nations with lower gross national product tend to have lower life expectancy, higher mortality rates and higher birth rates. It seems gross national product can reflect how a nation is equipt in sustaining its population.  Thus, nations in poverty are the ones who suffer the most compared to nations who are economically stable."
   ]
  }
 ],
 "metadata": {
  "kernelspec": {
   "display_name": "Python 3",
   "language": "python",
   "name": "python3"
  },
  "language_info": {
   "codemirror_mode": {
    "name": "ipython",
    "version": 3
   },
   "file_extension": ".py",
   "mimetype": "text/x-python",
   "name": "python",
   "nbconvert_exporter": "python",
   "pygments_lexer": "ipython3",
   "version": "3.7.1"
  }
 },
 "nbformat": 4,
 "nbformat_minor": 2
}
