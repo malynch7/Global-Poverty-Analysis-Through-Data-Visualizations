{
 "cells": [
  {
   "cell_type": "markdown",
   "metadata": {},
   "source": [
    "<h1 align='center'>Global Poverty Analysis Through Data Visualizations</h1>\n",
    "\n",
    "<h4 align='center'>Mark Lynch & Andre</h4>\n",
    "<h4 align='center'>Data Visualization</h4>\n",
    "<h4 align='center'>7/31/2019</h4>"
   ]
  },
  {
   "cell_type": "markdown",
   "metadata": {},
   "source": [
    "<br><br>\n",
    "### 1. About The Data:\n"
   ]
  },
  {
   "cell_type": "code",
   "execution_count": 1,
   "metadata": {},
   "outputs": [
    {
     "name": "stdout",
     "output_type": "stream",
     "text": [
      "\n",
      "NAME: The Statistics of Poverty and Inequality \n",
      "TYPE: Sample\n",
      "SIZE: 97 observations, 8 variables\n",
      "\n",
      "DESCRIPTIVE ABSTRACT:\n",
      "For 97 countries in the world, data are given for birth rates, death\n",
      "rates, infant death rates, life expectancies for males and females, and\n",
      "Gross National Product.\n",
      "\n",
      "SOURCES:\n",
      "Day, A. (ed.) (1992), _The Annual Register 1992_, 234, London:\n",
      "Longmans.\n",
      "\n",
      "_U.N.E.S.C.O. 1990 Demographic Year Book_ (1990), New York: United\n",
      "Nations.\n",
      "\n",
      "VARIABLE DESCRIPTIONS:\n",
      "Columns\n",
      " 1 -  6   Live birth rate per 1,000 of population\n",
      " 7 - 14   Death rate per 1,000 of population\n",
      "15 - 22   Infant deaths per 1,000 of population under 1 year old\n",
      "23 - 30   Life expectancy at birth for males\n",
      "31 - 38   Life expectancy at birth for females\n",
      "39 - 46   Gross National Product per capita in U.S. dollars \n",
      "47 - 52   Country Group\n",
      "          1 = Eastern Europe\n",
      "          2 = South America and Mexico\n",
      "          3 = Western Europe, North America, Japan, Australia, New Zealand\n",
      "          4 = Middle East\n",
      "          5 = Asia\n",
      "          6 = Africa\n",
      "53 - 74   Country\n",
      "\n",
      "Values are aligned and delimited by blanks.\n",
      "Missing values are denoted with *.\n",
      "\n",
      "STORY BEHIND THE DATA:\n",
      "These data were collected from _The Annual Register 1992_ (data for\n",
      "1990) and the _U.N.E.S.C.O. 1990 Demographic Year Book_ for use with\n",
      "first year undergraduates taking an introductory course in statistics.\n",
      "\n",
      "PEDAGOGICAL NOTES:\n",
      "This dataset provides a wealth of interesting information that will\n",
      "inspire students to ask their own questions and develop their own\n",
      "investigations.  The data can be divided into groups of countries so\n",
      "that differences in wealth or life expectancies can be explored using\n",
      "multiple box plots.  Population growth can be investigated in an\n",
      "exploratory way.  Students can look for relationships between variables\n",
      "using scatter diagrams.\n",
      "\n",
      "Additional ideas for the pedagogical use of these data can be found in\n",
      "the \"Datasets and Stories\" article \"The Statistics of Poverty and\n",
      "Inequality\" in the _Journal of Statistics Education_ (Rouncefield\n",
      "1995).  \n",
      "\n",
      "SUBMITTED BY:\n",
      "Mary Rouncefield\n",
      "Mathematics Department\n",
      "Chester College\n",
      "Cheyney Road\n",
      "Chester \n",
      "CH1 4DF\n",
      "U.K.\n",
      "\n",
      "\n",
      "\n"
     ]
    }
   ],
   "source": [
    "with open(\"poverty.txt\") as f:\n",
    "    print(f.read())"
   ]
  },
  {
   "cell_type": "code",
   "execution_count": 2,
   "metadata": {},
   "outputs": [
    {
     "data": {
      "text/html": [
       "<div>\n",
       "<style scoped>\n",
       "    .dataframe tbody tr th:only-of-type {\n",
       "        vertical-align: middle;\n",
       "    }\n",
       "\n",
       "    .dataframe tbody tr th {\n",
       "        vertical-align: top;\n",
       "    }\n",
       "\n",
       "    .dataframe thead th {\n",
       "        text-align: right;\n",
       "    }\n",
       "</style>\n",
       "<table border=\"1\" class=\"dataframe\">\n",
       "  <thead>\n",
       "    <tr style=\"text-align: right;\">\n",
       "      <th></th>\n",
       "      <th>births</th>\n",
       "      <th>deaths</th>\n",
       "      <th>infant_deaths</th>\n",
       "      <th>female_le</th>\n",
       "      <th>male_le</th>\n",
       "      <th>gnp</th>\n",
       "      <th>country_group</th>\n",
       "      <th>country</th>\n",
       "    </tr>\n",
       "  </thead>\n",
       "  <tbody>\n",
       "    <tr>\n",
       "      <th>0</th>\n",
       "      <td>24.7</td>\n",
       "      <td>5.7</td>\n",
       "      <td>30.8</td>\n",
       "      <td>69.6</td>\n",
       "      <td>75.5</td>\n",
       "      <td>600</td>\n",
       "      <td>1</td>\n",
       "      <td>Albania</td>\n",
       "    </tr>\n",
       "    <tr>\n",
       "      <th>1</th>\n",
       "      <td>12.5</td>\n",
       "      <td>11.9</td>\n",
       "      <td>14.4</td>\n",
       "      <td>68.3</td>\n",
       "      <td>74.7</td>\n",
       "      <td>2250</td>\n",
       "      <td>1</td>\n",
       "      <td>Bulgaria</td>\n",
       "    </tr>\n",
       "    <tr>\n",
       "      <th>2</th>\n",
       "      <td>13.4</td>\n",
       "      <td>11.7</td>\n",
       "      <td>11.3</td>\n",
       "      <td>71.8</td>\n",
       "      <td>77.7</td>\n",
       "      <td>2980</td>\n",
       "      <td>1</td>\n",
       "      <td>Czechoslovakia</td>\n",
       "    </tr>\n",
       "    <tr>\n",
       "      <th>3</th>\n",
       "      <td>12.0</td>\n",
       "      <td>12.4</td>\n",
       "      <td>7.6</td>\n",
       "      <td>69.8</td>\n",
       "      <td>75.9</td>\n",
       "      <td>*</td>\n",
       "      <td>1</td>\n",
       "      <td>Former_E._Germany</td>\n",
       "    </tr>\n",
       "    <tr>\n",
       "      <th>4</th>\n",
       "      <td>11.6</td>\n",
       "      <td>13.4</td>\n",
       "      <td>14.8</td>\n",
       "      <td>65.4</td>\n",
       "      <td>73.8</td>\n",
       "      <td>2780</td>\n",
       "      <td>1</td>\n",
       "      <td>Hungary</td>\n",
       "    </tr>\n",
       "  </tbody>\n",
       "</table>\n",
       "</div>"
      ],
      "text/plain": [
       "   births  deaths  infant_deaths  female_le  male_le   gnp  country_group  \\\n",
       "0    24.7     5.7           30.8       69.6     75.5   600              1   \n",
       "1    12.5    11.9           14.4       68.3     74.7  2250              1   \n",
       "2    13.4    11.7           11.3       71.8     77.7  2980              1   \n",
       "3    12.0    12.4            7.6       69.8     75.9     *              1   \n",
       "4    11.6    13.4           14.8       65.4     73.8  2780              1   \n",
       "\n",
       "             country  \n",
       "0            Albania  \n",
       "1           Bulgaria  \n",
       "2     Czechoslovakia  \n",
       "3  Former_E._Germany  \n",
       "4            Hungary  "
      ]
     },
     "execution_count": 2,
     "metadata": {},
     "output_type": "execute_result"
    }
   ],
   "source": [
    "import pandas\n",
    "povertydf = pandas.read_csv('poverty.csv')\n",
    "povertydf.head()"
   ]
  },
  {
   "cell_type": "markdown",
   "metadata": {},
   "source": [
    "<br><br>\n",
    "### 2. Visualizations:"
   ]
  },
  {
   "cell_type": "markdown",
   "metadata": {},
   "source": [
    "#### Figure 2.1"
   ]
  },
  {
   "cell_type": "code",
   "execution_count": 16,
   "metadata": {
    "scrolled": false
   },
   "outputs": [
    {
     "name": "stderr",
     "output_type": "stream",
     "text": [
      "C:\\Users\\Andres\\Anaconda3\\lib\\site-packages\\IPython\\core\\display.py:689: UserWarning:\n",
      "\n",
      "Consider using IPython.display.IFrame instead\n",
      "\n"
     ]
    },
    {
     "data": {
      "text/html": [
       "<iframe id=\"igraph\" scrolling=\"no\" style=\"border:none;\" seamless=\"seamless\" src=\"https://plot.ly/~acifuen1/297.embed\" height=\"525px\" width=\"100%\"></iframe>"
      ],
      "text/plain": [
       "<chart_studio.tools.PlotlyDisplay object>"
      ]
     },
     "execution_count": 16,
     "metadata": {},
     "output_type": "execute_result"
    }
   ],
   "source": [
    "# GNP Choropleth \n",
    "import pandas\n",
    "import plotly.plotly as py\n",
    "import plotly.graph_objs as go\n",
    "\n",
    "povertydf = pandas.read_csv('poverty.csv')\n",
    "povertydf = povertydf[povertydf['gnp'] != '*'] #drop missing values\n",
    "\n",
    "data = [go.Choropleth(autocolorscale = False,\n",
    "                      colorscale = 'Blues',\n",
    "                      reversescale = True,\n",
    "                      locations = povertydf['country'],\n",
    "                      z = povertydf['gnp'],\n",
    "                      locationmode = 'country names',\n",
    "                      colorbar = go.choropleth.ColorBar(title = \"GNP Per Capita (USD)\"))]\n",
    "\n",
    "layout = go.Layout(title = go.layout.Title(text = 'Distributed Gross National Product Per Capita'),\n",
    "                   geo = go.layout.Geo(scope = 'world'))\n",
    "\n",
    "fig = go.Figure(data = data, layout = layout)\n",
    "py.iplot(fig, filename = \"Distributed Gross National Product Per Capita\")"
   ]
  },
  {
   "cell_type": "markdown",
   "metadata": {},
   "source": [
    "    Sample text stand-in for analysis of figure 2.1.\n"
   ]
  },
  {
   "cell_type": "markdown",
   "metadata": {},
   "source": [
    "<br>\n",
    "\n",
    "#### Figure 2.2"
   ]
  },
  {
   "cell_type": "code",
   "execution_count": 7,
   "metadata": {},
   "outputs": [
    {
     "name": "stderr",
     "output_type": "stream",
     "text": [
      "C:\\Users\\Andres\\Anaconda3\\lib\\site-packages\\IPython\\core\\display.py:689: UserWarning:\n",
      "\n",
      "Consider using IPython.display.IFrame instead\n",
      "\n"
     ]
    },
    {
     "data": {
      "text/html": [
       "<iframe id=\"igraph\" scrolling=\"no\" style=\"border:none;\" seamless=\"seamless\" src=\"https://plot.ly/~acifuen1/213.embed\" height=\"525px\" width=\"100%\"></iframe>"
      ],
      "text/plain": [
       "<chart_studio.tools.PlotlyDisplay object>"
      ]
     },
     "execution_count": 7,
     "metadata": {},
     "output_type": "execute_result"
    }
   ],
   "source": [
    "# GNP Bar Chart\n",
    "import pandas\n",
    "import plotly.plotly as py\n",
    "import plotly.graph_objs as go\n",
    "\n",
    "povertydf = pandas.read_csv('poverty.csv')\n",
    "povertydf = povertydf[povertydf['gnp'] != '*'] #drop missing values\n",
    "povertydf = povertydf.astype({'gnp': 'int64'}) #GNP from object to int\n",
    "\n",
    "sorteddf = povertydf.sort_values(by = ['gnp'], ascending = False)\n",
    "\n",
    "data = [go.Bar(y = sorteddf['gnp'],\n",
    "               x = sorteddf['country'],\n",
    "               name = 'Gross National Product')]\n",
    "\n",
    "layout = go.Layout(title = 'Gross National Product By Country',\n",
    "                   yaxis = go.layout.YAxis(title = 'Gross National Product Per Capita (USD)'),\n",
    "                   xaxis = go.layout.XAxis(title = 'Country', automargin = True))\n",
    "\n",
    "fig = go.Figure(data = data, layout = layout)\n",
    "py.iplot(fig, filename = 'Gross National Product By Country')"
   ]
  },
  {
   "cell_type": "markdown",
   "metadata": {},
   "source": [
    "    Sample text stand-in for analysis of figure 2.2.\n"
   ]
  },
  {
   "cell_type": "markdown",
   "metadata": {},
   "source": [
    "<br>\n",
    "\n",
    "#### Figure 2.3"
   ]
  },
  {
   "cell_type": "code",
   "execution_count": 8,
   "metadata": {},
   "outputs": [
    {
     "name": "stderr",
     "output_type": "stream",
     "text": [
      "C:\\Users\\Andres\\Anaconda3\\lib\\site-packages\\IPython\\core\\display.py:689: UserWarning:\n",
      "\n",
      "Consider using IPython.display.IFrame instead\n",
      "\n"
     ]
    },
    {
     "data": {
      "text/html": [
       "<iframe id=\"igraph\" scrolling=\"no\" style=\"border:none;\" seamless=\"seamless\" src=\"https://plot.ly/~acifuen1/215.embed\" height=\"525px\" width=\"100%\"></iframe>"
      ],
      "text/plain": [
       "<chart_studio.tools.PlotlyDisplay object>"
      ]
     },
     "execution_count": 8,
     "metadata": {},
     "output_type": "execute_result"
    }
   ],
   "source": [
    "# GNP Distribution Box Plot\n",
    "import pandas\n",
    "import plotly.plotly as py\n",
    "import plotly.graph_objs as go\n",
    "\n",
    "povertydf = pandas.read_csv('poverty.csv')\n",
    "povertydf = povertydf[povertydf['gnp'] != '*'] #drop missing values\n",
    "\n",
    "data = [go.Box(x = povertydf['gnp'], name = 'GNP Distribution')]\n",
    "\n",
    "layout = go.Layout(title = 'Gross National Product Distribution',\n",
    "                   xaxis = go.layout.XAxis(title = 'Gross National Product Per Capita (USD)'))\n",
    "\n",
    "fig = go.Figure(data = data, layout = layout)\n",
    "py.iplot(fig, filename = 'Gross National Product Distribution')"
   ]
  },
  {
   "cell_type": "markdown",
   "metadata": {},
   "source": [
    "    Sample text stand-in for analysis of figure 2.3.\n"
   ]
  },
  {
   "cell_type": "markdown",
   "metadata": {},
   "source": [
    "<br>\n",
    "\n",
    "#### Figure 2.4"
   ]
  },
  {
   "cell_type": "code",
   "execution_count": 9,
   "metadata": {
    "scrolled": false
   },
   "outputs": [
    {
     "name": "stderr",
     "output_type": "stream",
     "text": [
      "C:\\Users\\Andres\\Anaconda3\\lib\\site-packages\\IPython\\core\\display.py:689: UserWarning:\n",
      "\n",
      "Consider using IPython.display.IFrame instead\n",
      "\n"
     ]
    },
    {
     "data": {
      "text/html": [
       "<iframe id=\"igraph\" scrolling=\"no\" style=\"border:none;\" seamless=\"seamless\" src=\"https://plot.ly/~acifuen1/217.embed\" height=\"525px\" width=\"100%\"></iframe>"
      ],
      "text/plain": [
       "<chart_studio.tools.PlotlyDisplay object>"
      ]
     },
     "execution_count": 9,
     "metadata": {},
     "output_type": "execute_result"
    }
   ],
   "source": [
    "# Birth Rate v. Death Rate Box Plot\n",
    "import pandas\n",
    "import plotly.plotly as py\n",
    "import plotly.graph_objs as go\n",
    "\n",
    "povertydf = pandas.read_csv('poverty.csv')\n",
    "povertydf = povertydf[povertydf['gnp'] != '*'] #drop missing values\n",
    "\n",
    "data = [go.Box(y = povertydf['births'],\n",
    "               name = 'Births Per 1000'),\n",
    "        go.Box(y = povertydf['deaths'],\n",
    "               name = 'Deaths per 1000')]\n",
    "\n",
    "layout = go.Layout(title = 'Distributed Birth and Death Rates')\n",
    "\n",
    "fig = go.Figure(data = data, layout = layout)\n",
    "py.iplot(fig, filename = \"Distributed Birth and Death Rates\")"
   ]
  },
  {
   "cell_type": "markdown",
   "metadata": {},
   "source": [
    "    Sample text stand-in for analysis of figure 2.4.\n"
   ]
  },
  {
   "cell_type": "markdown",
   "metadata": {},
   "source": [
    "<br>\n",
    "\n",
    "#### Figure 2.5"
   ]
  },
  {
   "cell_type": "code",
   "execution_count": 10,
   "metadata": {},
   "outputs": [
    {
     "name": "stderr",
     "output_type": "stream",
     "text": [
      "C:\\Users\\Andres\\Anaconda3\\lib\\site-packages\\IPython\\core\\display.py:689: UserWarning:\n",
      "\n",
      "Consider using IPython.display.IFrame instead\n",
      "\n"
     ]
    },
    {
     "data": {
      "text/html": [
       "<iframe id=\"igraph\" scrolling=\"no\" style=\"border:none;\" seamless=\"seamless\" src=\"https://plot.ly/~acifuen1/219.embed\" height=\"525px\" width=\"100%\"></iframe>"
      ],
      "text/plain": [
       "<chart_studio.tools.PlotlyDisplay object>"
      ]
     },
     "execution_count": 10,
     "metadata": {},
     "output_type": "execute_result"
    }
   ],
   "source": [
    "# Population Growth Choropleth\n",
    "import pandas\n",
    "import plotly.plotly as py\n",
    "import plotly.graph_objs as go\n",
    "\n",
    "povertydf = pandas.read_csv('poverty.csv')\n",
    "povertydf = povertydf[povertydf['gnp'] != '*'] #drop missing values\n",
    "povertydf['growth'] = (povertydf['births'] - povertydf['deaths']) / 10\n",
    "\n",
    "growthdf = povertydf[povertydf['growth'] > 0]\n",
    "declinedf = povertydf[povertydf['growth'] <= 0]\n",
    "\n",
    "data = [go.Choropleth(name = 'Growth',\n",
    "                      autocolorscale = False,\n",
    "                      colorscale = 'Greens',\n",
    "                      reversescale = True,\n",
    "                      locations = growthdf['country'],\n",
    "                      z = growthdf['growth'],\n",
    "                      locationmode = 'country names',\n",
    "                      colorbar = go.choropleth.ColorBar(title = \"% Growth\")),\n",
    "        go.Choropleth(name = 'Decline',\n",
    "                      autocolorscale = False,\n",
    "                      colorscale = 'Reds',\n",
    "                      reversescale = True,\n",
    "                      locations = declinedf['country'],\n",
    "                      z = declinedf['growth'],\n",
    "                      locationmode = 'country names',\n",
    "                      colorbar = go.choropleth.ColorBar(title = \"% Decline\",\n",
    "                                                        x = 1.2))]\n",
    "\n",
    "layout = go.Layout(title = go.layout.Title(text = 'Annual Population Growth'),\n",
    "                   geo = go.layout.Geo(scope = 'world'))\n",
    "\n",
    "fig = go.Figure(data = data, layout = layout)\n",
    "py.iplot(fig, filename = \"Annual Population Growth\")"
   ]
  },
  {
   "cell_type": "markdown",
   "metadata": {},
   "source": [
    "    Sample text stand-in for analysis of figure 2.5.\n"
   ]
  },
  {
   "cell_type": "markdown",
   "metadata": {},
   "source": [
    "<br>\n",
    "\n",
    "#### Figure 2.6"
   ]
  },
  {
   "cell_type": "code",
   "execution_count": 11,
   "metadata": {},
   "outputs": [
    {
     "data": {
      "image/png": "[encoded data removed]",
      "text/plain": [
       "<Figure size 864x432 with 1 Axes>"
      ]
     },
     "metadata": {
      "needs_background": "light"
     },
     "output_type": "display_data"
    }
   ],
   "source": [
    "# GNP vs Population Growth Regression Plot\n",
    "import pandas\n",
    "import seaborn as sns\n",
    "import matplotlib.pyplot as plt\n",
    "\n",
    "povertydf = pandas.read_csv('poverty.csv')\n",
    "povertydf = povertydf[povertydf['gnp'] != '*'] #drop missing values\n",
    "povertydf = povertydf.astype({'gnp': 'int64'}) #GNP from object to int\n",
    "povertydf['growth'] = (povertydf['births'] - povertydf['deaths']) / 10\n",
    "\n",
    "plt.figure(figsize=(12, 6))\n",
    "vis = sns.regplot(x = 'gnp', y = 'growth',data = povertydf)\n",
    "vis.set(xlabel = 'Gross National Product Per Capita',\n",
    "        ylabel = '% Annual Population Growth',\n",
    "        title = 'Population Growth vs. Gross National Product')\n",
    "plt.show()"
   ]
  },
  {
   "cell_type": "markdown",
   "metadata": {},
   "source": [
    "    Sample text stand-in for analysis of figure 2.6.\n"
   ]
  },
  {
   "cell_type": "markdown",
   "metadata": {},
   "source": [
    "<br>\n",
    "\n",
    "#### Figure 2.7"
   ]
  },
  {
   "cell_type": "code",
   "execution_count": 12,
   "metadata": {},
   "outputs": [
    {
     "data": {
      "image/png": "[encoded data removed]",
      "text/plain": [
       "<Figure size 864x432 with 1 Axes>"
      ]
     },
     "metadata": {
      "needs_background": "light"
     },
     "output_type": "display_data"
    }
   ],
   "source": [
    "# GNP vs Average Life Expectancy Regression Plot\n",
    "import pandas\n",
    "import seaborn as sns\n",
    "import matplotlib.pyplot as plt\n",
    "\n",
    "povertydf = pandas.read_csv('poverty.csv')\n",
    "povertydf = povertydf[povertydf['gnp'] != '*'] #drop missing values\n",
    "povertydf = povertydf.astype({'gnp': 'int64'}) #GNP from object to int\n",
    "povertydf['avg_le'] = (povertydf['male_le'] + povertydf['female_le']) / 2\n",
    "\n",
    "plt.figure(figsize=(12, 6))\n",
    "vis = sns.regplot(x = 'gnp', y = 'avg_le', data = povertydf)\n",
    "vis.set(xlabel='Gross National Product Per Capita',\n",
    "        ylabel='Average Life Expectancy',\n",
    "        title = 'Life Expectancy vs. Gross National Product')\n",
    "plt.show()"
   ]
  },
  {
   "cell_type": "markdown",
   "metadata": {},
   "source": [
    "    Sample text stand-in for analysis of figure 2.7.\n"
   ]
  },
  {
   "cell_type": "markdown",
   "metadata": {},
   "source": [
    "<br>\n",
    "\n",
    "#### Figure 2.8"
   ]
  },
  {
   "cell_type": "code",
   "execution_count": 13,
   "metadata": {},
   "outputs": [
    {
     "data": {
      "image/png": "[encoded data removed]",
      "text/plain": [
       "<Figure size 864x432 with 1 Axes>"
      ]
     },
     "metadata": {
      "needs_background": "light"
     },
     "output_type": "display_data"
    }
   ],
   "source": [
    "# GNP vs Infant Mortality Rate Regression Plot\n",
    "import pandas\n",
    "import seaborn as sns\n",
    "import matplotlib.pyplot as plt\n",
    "\n",
    "povertydf = pandas.read_csv('poverty.csv')\n",
    "povertydf = povertydf[povertydf['gnp'] != '*'] #drop missing values\n",
    "povertydf = povertydf.astype({'gnp': 'int64'}) #GNP from object to int\n",
    "povertydf['infant_deaths'] = povertydf['infant_deaths'] / 10\n",
    "\n",
    "plt.figure(figsize=(12, 6))\n",
    "vis = sns.regplot(x = 'gnp', y = 'infant_deaths', data = povertydf)\n",
    "vis.set(xlabel='Gross National Product Per Capita',\n",
    "        ylabel='Infant Mortality Rate (%)',\n",
    "        title = 'Infant Mortality Rate vs. Gross National Product')\n",
    "plt.show()"
   ]
  },
  {
   "cell_type": "markdown",
   "metadata": {},
   "source": [
    "    Sample text stand-in for analysis of figure 2.8.\n"
   ]
  },
  {
   "cell_type": "code",
   "execution_count": null,
   "metadata": {},
   "outputs": [],
   "source": [
    "# Scatter plots: GNP vs death rate, birth rate"
   ]
  },
  {
   "cell_type": "markdown",
   "metadata": {},
   "source": [
    "# Figure 2.6"
   ]
  },
  {
   "cell_type": "code",
   "execution_count": null,
   "metadata": {},
   "outputs": [],
   "source": [
    "# Birth rate / Death rate  Bar Chart = Population Growth by Country\n",
    "import pandas \n",
    "import plotly.plotly as py\n",
    "import plotly.graph_objs as go\n",
    "import plotly\n",
    "\n",
    "povertydf = pandas.read_csv('poverty.csv')\n",
    "povertydf = povertydf[povertydf['gnp'] != '*'] #drop missing values\n",
    "povertydf = pd.DataFrame(povertydf)\n",
    "\n",
    "\n",
    "fig = go.Figure()\n",
    "groups = []\n",
    "\n",
    "for group, group_df in povertydf.groupby('country_group'):\n",
    "    groups.append(group)\n",
    "    fig.add_bar(x=group_df.country,\n",
    "                y=group_df.births,\n",
    "                name=str(group)+ \" births\",\n",
    "                marker_color = 'blue'),\n",
    "    fig.add_bar(x=group_df.country,\n",
    "                y=group_df.deaths,\n",
    "                name=str(group) + \" deaths\",\n",
    "                marker_color = 'orange')\n",
    "fig.layout.update(\n",
    "    updatemenus=[\n",
    "        go.layout.Updatemenu(\n",
    "        active=0,\n",
    "        buttons=list([\n",
    "                dict(label=\"Both\",\n",
    "                     method=\"update\",\n",
    "                     args=[{\"visible\": [True, True]},\n",
    "                           {\"title\": \"Birth and Death Comparison\",}]),\n",
    "                dict(label=\"Births\",\n",
    "                     method=\"update\",\n",
    "                     args=[{\"visible\": [True, False]},\n",
    "                           {\"title\": \"Birth Comparison\",}]),\n",
    "                dict(label=\"Deaths\",\n",
    "                     method=\"update\",\n",
    "                     args=[{\"visible\": [False, True]},\n",
    "                           {\"title\": \"Death Comparison\",}]),       \n",
    "            ]),\n",
    "        )\n",
    "    ])\n",
    "fig.layout.update(title = 'Birth and Death Comparison',\n",
    "                  xaxis = go.layout.XAxis(title = 'Countries'),\n",
    "                  yaxis = go.layout.YAxis(title = 'Population per 1000'))\n",
    "\n",
    "py.iplot(fig)"
   ]
  },
  {
   "cell_type": "markdown",
   "metadata": {},
   "source": [
    "    Sample text stand-in for analysis of figure 2.6."
   ]
  },
  {
   "cell_type": "markdown",
   "metadata": {},
   "source": [
    "# Figure 2.7"
   ]
  },
  {
   "cell_type": "code",
   "execution_count": null,
   "metadata": {},
   "outputs": [],
   "source": [
    "# Scatter plots: GNP vs death rate, birth rate\n",
    "import pandas \n",
    "import plotly.plotly as py\n",
    "import plotly.graph_objs as go\n",
    "import plotly\n",
    "\n",
    "povertydf = pandas.read_csv('poverty.csv')\n",
    "povertydf = povertydf[povertydf['gnp'] != '*'] #drop missing values\n",
    "povertydf = pd.DataFrame(povertydf)\n",
    "sorteddf = povertydf.sort_values(by = ['births'], ascending = False)\n",
    "\n",
    "fig = go.Figure()\n",
    "fig.add_trace(\n",
    "    go.Scatter(x=sorteddf.gnp,\n",
    "                y=sorteddf.births,\n",
    "                mode ='markers',\n",
    "               name = 'Births',\n",
    "               hovertext =sorteddf.country,\n",
    "                marker =dict(\n",
    "                    color = 'blue',\n",
    "                symbol ='triangle-up')\n",
    ")),\n",
    "fig.add_trace(\n",
    "    go.Scatter(x=sorteddf.gnp,\n",
    "                y=sorteddf.deaths,\n",
    "                mode='markers',\n",
    "                name= 'Deaths',\n",
    "                  marker =dict(\n",
    "                    color = 'orange',\n",
    "                symbol ='x')\n",
    "))\n",
    "\n",
    "fig.layout.update(annotations=[\n",
    "        go.layout.Annotation(\n",
    "            x=21790,\n",
    "            y=16.7,\n",
    "            xref=\"x\",\n",
    "            yref=\"y\",\n",
    "            text=\"U.S.A.\",\n",
    "            showarrow=True,\n",
    "            font=dict(\n",
    "                family=\"Courier New, monospace\",\n",
    "                size=16,\n",
    "                color=\"#ffffff\"\n",
    "            ),\n",
    "            align=\"center\",\n",
    "            arrowhead=2,\n",
    "            arrowsize=1,\n",
    "            arrowwidth=2,\n",
    "            arrowcolor=\"grey\",\n",
    "            ax=20,\n",
    "            ay=-30,\n",
    "            bordercolor=\"#c7c7c7\",\n",
    "            borderwidth=2,\n",
    "            borderpad=4,\n",
    "            bgcolor=\"green\",\n",
    "            opacity=0.8\n",
    "        )\n",
    "    ],\n",
    "                  title = 'Gross National Products Vs. Birth & Death Rates',\n",
    "                  xaxis = go.layout.XAxis(title = 'Gross National Products (USD)'),\n",
    "                  yaxis = go.layout.YAxis(title = 'Population per 1000'))\n",
    "py.iplot(fig)"
   ]
  },
  {
   "cell_type": "markdown",
   "metadata": {},
   "source": [
    "    Sample text stand-in for analysis of figure 2.7."
   ]
  },
  {
   "cell_type": "markdown",
   "metadata": {},
   "source": [
    "# Figure 2.8"
   ]
  },
  {
   "cell_type": "code",
   "execution_count": null,
   "metadata": {},
   "outputs": [],
   "source": [
    "# Male vs female life expectancy by region/country/Global\n",
    "import pandas\n",
    "import plotly.plotly as py\n",
    "import plotly.graph_objs as go\n",
    "\n",
    "povertydf = pandas.read_csv('poverty.csv')\n",
    "povertydf = povertydf[povertydf['gnp'] != '*'] #drop missing values\n",
    "\n",
    "fig =go.Figure()\n",
    "fig.add_box(x = list(povertydf.country_group),\n",
    "    y = povertydf['male_le'],\n",
    "               name = 'Male',\n",
    "           marker_color = 'blue'),\n",
    "fig.add_box(x = povertydf.country_group,\n",
    "            y = povertydf['female_le'],\n",
    "               name = 'Female',\n",
    "           marker_color = 'pink')\n",
    "fig.layout.update(\n",
    "    updatemenus=[\n",
    "go.layout.Updatemenu(\n",
    "        active=0,\n",
    "        buttons=list([\n",
    "                dict(label=\"Both\",\n",
    "                     method=\"update\",\n",
    "                     args=[{\"visible\": [True, True]},\n",
    "                           {\"title\": \"Male & Female Life Expectancy\",}]),\n",
    "                dict(label=\"Males\",\n",
    "                     method=\"update\",\n",
    "                     args=[{\"visible\": [True, False]},\n",
    "                           {\"title\": \"Male Life Expectancy\",}]),\n",
    "                dict(label=\"Females\",\n",
    "                     method=\"update\",\n",
    "                     args=[{\"visible\": [False, True]},\n",
    "                           {\"title\": \"Female Life Expectancy\",}]),       \n",
    "            ]),\n",
    "        )\n",
    "    ])\n",
    "fig.layout.update(title= \"Male & Female Life Expectancy\",\n",
    "                  xaxis = go.layout.XAxis(title = 'Region Groups'),\n",
    "                  yaxis = go.layout.YAxis(title = 'Age(Year)'))\n",
    "py.iplot(fig)"
   ]
  },
  {
   "cell_type": "markdown",
   "metadata": {},
   "source": [
    "    Sample text stand-in for analysis of figure 2.8."
   ]
  },
  {
   "cell_type": "markdown",
   "metadata": {},
   "source": [
    "# Figure 2.9"
   ]
  },
  {
   "cell_type": "code",
   "execution_count": null,
   "metadata": {},
   "outputs": [],
   "source": [
    "# Avg Life Expectancy Choropleth\n",
    "\n",
    "import pandas\n",
    "import plotly.plotly as py\n",
    "import plotly.graph_objs as go\n",
    "import numpy as np\n",
    "\n",
    "povertydf = pandas.read_csv('poverty.csv')\n",
    "povertydf = povertydf[povertydf['gnp'] != '*'] #drop missing values\n",
    "\n",
    "data = [go.Choropleth(autocolorscale = False,\n",
    "                      colorscale = 'Viridis',\n",
    "                      reversescale = False,\n",
    "                      locations = povertydf['country'],\n",
    "                      z = (np.around(povertydf['male_le'] + povertydf['female_le']) / 2),\n",
    "                      locationmode = 'country names',\n",
    "                      colorbar = go.choropleth.ColorBar(title = \"Age (Year)\"))]\n",
    "\n",
    "layout = go.Layout(title = go.layout.Title(text = 'Life Expectancy within Regions'),\n",
    "                   geo = go.layout.Geo(scope = 'world'))\n",
    "\n",
    "fig = go.Figure(data = data, layout = layout)\n",
    "py.iplot(fig, show_link = False)"
   ]
  }
 ],
 "metadata": {
  "kernelspec": {
   "display_name": "Python 3",
   "language": "python",
   "name": "python3"
  },
  "language_info": {
   "codemirror_mode": {
    "name": "ipython",
    "version": 3
   },
   "file_extension": ".py",
   "mimetype": "text/x-python",
   "name": "python",
   "nbconvert_exporter": "python",
   "pygments_lexer": "ipython3",
   "version": "3.7.3"
  }
 },
 "nbformat": 4,
 "nbformat_minor": 2
}
